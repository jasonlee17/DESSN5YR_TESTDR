{
 "cells": [
  {
   "cell_type": "markdown",
   "metadata": {},
   "source": [
    "# DES SN 5YR Tutorial Part 1: Load all Photometry"
   ]
  },
  {
   "cell_type": "markdown",
   "metadata": {},
   "source": [
    "<img align=\"left\" src = ../_static/images/logo044.jpg width=120 style=\"padding: 10px\"> \n",
    "<br><b>Dark Energy Survey Supernova Program</b>\n",
    "\n",
    "<b>Tutorial Part 1</b>\n",
    "<b>Load all Photometry</b> <br>\n",
    "Contact author: Bruno Sánchez<br>"
   ]
  },
  {
   "cell_type": "markdown",
   "metadata": {},
   "source": [
    "This tutorial is intended to show how to use the `dessndr` python package to load some of the light-curve data from the DES SN 5YR Data Release.\n",
    "\n",
    "It will demonstrate how to load a transient record, check its parameters and plot its photometrical light-curve."
   ]
  },
  {
   "cell_type": "code",
   "execution_count": 1,
   "metadata": {},
   "outputs": [],
   "source": [
    "import numpy as np\n",
    "import matplotlib.pyplot as plt"
   ]
  },
  {
   "cell_type": "markdown",
   "metadata": {},
   "source": [
    "We will load the package `utils` module and `data` module.\n",
    "\n",
    "`utils` provides functionality to read the data formats\n",
    "\n",
    "`data` provides with the location of the downloaded DR files."
   ]
  },
  {
   "cell_type": "code",
   "execution_count": 2,
   "metadata": {},
   "outputs": [],
   "source": [
    "from dessndr import utils, data"
   ]
  },
  {
   "cell_type": "markdown",
   "metadata": {},
   "source": [
    "This is the loacation of the cloned DR repository in our system:"
   ]
  },
  {
   "cell_type": "code",
   "execution_count": 3,
   "metadata": {},
   "outputs": [
    {
     "name": "stdout",
     "output_type": "stream",
     "text": [
      "/Users/sanchez/DES5YRDR_DATA_ROOT/DES-SN5YR\n"
     ]
    }
   ],
   "source": [
    "print(data.DES5YRDR_DATA)"
   ]
  },
  {
   "cell_type": "markdown",
   "metadata": {},
   "source": [
    "The data module also provides with some functions to get individual files from the repo:"
   ]
  },
  {
   "cell_type": "code",
   "execution_count": 4,
   "metadata": {},
   "outputs": [
    {
     "data": {
      "text/plain": [
       "\u001b[0;31mSignature:\u001b[0m\n",
       "\u001b[0mdata\u001b[0m\u001b[0;34m.\u001b[0m\u001b[0mclone_repo\u001b[0m\u001b[0;34m(\u001b[0m\u001b[0;34m\u001b[0m\n",
       "\u001b[0;34m\u001b[0m    \u001b[0mrepo_url\u001b[0m\u001b[0;34m=\u001b[0m\u001b[0;34m'https://github.com/des-science/DES-SN5YR'\u001b[0m\u001b[0;34m,\u001b[0m\u001b[0;34m\u001b[0m\n",
       "\u001b[0;34m\u001b[0m    \u001b[0mdest_folder\u001b[0m\u001b[0;34m=\u001b[0m\u001b[0;34m'/Users/sanchez/DES5YRDR_DATA_ROOT'\u001b[0m\u001b[0;34m,\u001b[0m\u001b[0;34m\u001b[0m\n",
       "\u001b[0;34m\u001b[0m\u001b[0;34m)\u001b[0m\u001b[0;34m\u001b[0m\u001b[0;34m\u001b[0m\u001b[0m\n",
       "\u001b[0;31mDocstring:\u001b[0m <no docstring>\n",
       "\u001b[0;31mFile:\u001b[0m      ~/Data/DES/DESSNDR/DESSN5YR_TESTDR/dessndr/data.py\n",
       "\u001b[0;31mType:\u001b[0m      function"
      ]
     },
     "metadata": {},
     "output_type": "display_data"
    }
   ],
   "source": [
    "data.clone_repo?"
   ]
  },
  {
   "cell_type": "markdown",
   "metadata": {},
   "source": [
    "Now we are going to load the DES photometry files:"
   ]
  },
  {
   "cell_type": "code",
   "execution_count": 5,
   "metadata": {},
   "outputs": [],
   "source": [
    "# This should be \n",
    "# phot_version = os.path.join(data.DES5YRDR_DATA, '0_DATA/DES-SN5YR_DES') \n",
    "# Or similar path. Instead we use local files for the moment\n",
    "phot_version = '/Users/sanchez/Data/DES/organize_DR/DES-SN5YR_DES/DES-SN5YR_DES'"
   ]
  },
  {
   "cell_type": "markdown",
   "metadata": {},
   "source": [
    "We make use of the `utils.PhotFITS` reader class. We make an instance pointing to the photometry version we want to use (SMP nominal files or DIFFIMG)."
   ]
  },
  {
   "cell_type": "code",
   "execution_count": 6,
   "metadata": {},
   "outputs": [
    {
     "name": "stderr",
     "output_type": "stream",
     "text": [
      "/Users/sanchez/.virtualenvs/desdr/lib/python3.12/site-packages/pandas/core/arraylike.py:399: RuntimeWarning: divide by zero encountered in log10\n",
      "  result = getattr(ufunc, method)(*inputs, **kwargs)\n",
      "/Users/sanchez/.virtualenvs/desdr/lib/python3.12/site-packages/pandas/core/arraylike.py:399: RuntimeWarning: invalid value encountered in log10\n",
      "  result = getattr(ufunc, method)(*inputs, **kwargs)\n"
     ]
    }
   ],
   "source": [
    "phot = utils.PhotFITS(phot_version)"
   ]
  },
  {
   "cell_type": "markdown",
   "metadata": {},
   "source": [
    "We can inspect some of the details of `phot` instance now, checking the header and photometry table. \n",
    "\n",
    "Both are pandas DataFrame instances, related by the `SNID` (or more precisely Candidate ID `CID`)"
   ]
  },
  {
   "cell_type": "code",
   "execution_count": 7,
   "metadata": {},
   "outputs": [
    {
     "data": {
      "text/html": [
       "<div>\n",
       "<style scoped>\n",
       "    .dataframe tbody tr th:only-of-type {\n",
       "        vertical-align: middle;\n",
       "    }\n",
       "\n",
       "    .dataframe tbody tr th {\n",
       "        vertical-align: top;\n",
       "    }\n",
       "\n",
       "    .dataframe thead th {\n",
       "        text-align: right;\n",
       "    }\n",
       "</style>\n",
       "<table border=\"1\" class=\"dataframe\">\n",
       "  <thead>\n",
       "    <tr style=\"text-align: right;\">\n",
       "      <th></th>\n",
       "      <th>SNID</th>\n",
       "      <th>IAUC</th>\n",
       "      <th>FAKE</th>\n",
       "      <th>MASK_FLUXCOR_SNANA</th>\n",
       "      <th>RA</th>\n",
       "      <th>DEC</th>\n",
       "      <th>PIXSIZE</th>\n",
       "      <th>NXPIX</th>\n",
       "      <th>NYPIX</th>\n",
       "      <th>SNTYPE</th>\n",
       "      <th>...</th>\n",
       "      <th>HOSTGAL_SB_FLUXCAL_g</th>\n",
       "      <th>HOSTGAL_SB_FLUXCAL_r</th>\n",
       "      <th>HOSTGAL_SB_FLUXCAL_i</th>\n",
       "      <th>HOSTGAL_SB_FLUXCAL_z</th>\n",
       "      <th>PEAKMJD</th>\n",
       "      <th>MJD_TRIGGER</th>\n",
       "      <th>MJD_DETECT_FIRST</th>\n",
       "      <th>MJD_DETECT_LAST</th>\n",
       "      <th>SEARCH_TYPE</th>\n",
       "      <th>PRIVATE(AGN_SCAN)</th>\n",
       "    </tr>\n",
       "  </thead>\n",
       "  <tbody>\n",
       "    <tr>\n",
       "      <th>0</th>\n",
       "      <td>1642082</td>\n",
       "      <td>b'UNKNOWN         '</td>\n",
       "      <td>0</td>\n",
       "      <td>0</td>\n",
       "      <td>35.169212</td>\n",
       "      <td>-5.698688</td>\n",
       "      <td>0.263</td>\n",
       "      <td>2048</td>\n",
       "      <td>4096</td>\n",
       "      <td>0</td>\n",
       "      <td>...</td>\n",
       "      <td>27.120001</td>\n",
       "      <td>78.250000</td>\n",
       "      <td>109.330002</td>\n",
       "      <td>138.820007</td>\n",
       "      <td>57739.117188</td>\n",
       "      <td>57756.070312</td>\n",
       "      <td>57739.117188</td>\n",
       "      <td>57756.070312</td>\n",
       "      <td>-9</td>\n",
       "      <td>-1.0</td>\n",
       "    </tr>\n",
       "    <tr>\n",
       "      <th>1</th>\n",
       "      <td>1294480</td>\n",
       "      <td>b'UNKNOWN         '</td>\n",
       "      <td>0</td>\n",
       "      <td>0</td>\n",
       "      <td>34.010349</td>\n",
       "      <td>-5.383460</td>\n",
       "      <td>0.263</td>\n",
       "      <td>2048</td>\n",
       "      <td>4096</td>\n",
       "      <td>0</td>\n",
       "      <td>...</td>\n",
       "      <td>28.950001</td>\n",
       "      <td>138.470001</td>\n",
       "      <td>249.429993</td>\n",
       "      <td>354.040009</td>\n",
       "      <td>56956.085938</td>\n",
       "      <td>-9.000000</td>\n",
       "      <td>56956.085938</td>\n",
       "      <td>57311.109375</td>\n",
       "      <td>-9</td>\n",
       "      <td>-1.0</td>\n",
       "    </tr>\n",
       "    <tr>\n",
       "      <th>2</th>\n",
       "      <td>1402031</td>\n",
       "      <td>b'UNKNOWN         '</td>\n",
       "      <td>0</td>\n",
       "      <td>0</td>\n",
       "      <td>8.426459</td>\n",
       "      <td>-44.096779</td>\n",
       "      <td>0.263</td>\n",
       "      <td>2048</td>\n",
       "      <td>4096</td>\n",
       "      <td>0</td>\n",
       "      <td>...</td>\n",
       "      <td>-1.510000</td>\n",
       "      <td>2.420000</td>\n",
       "      <td>1.830000</td>\n",
       "      <td>-1.640000</td>\n",
       "      <td>0.010000</td>\n",
       "      <td>-9.000000</td>\n",
       "      <td>57642.109375</td>\n",
       "      <td>-9.000000</td>\n",
       "      <td>-9</td>\n",
       "      <td>-1.0</td>\n",
       "    </tr>\n",
       "    <tr>\n",
       "      <th>3</th>\n",
       "      <td>1690045</td>\n",
       "      <td>b'UNKNOWN         '</td>\n",
       "      <td>0</td>\n",
       "      <td>0</td>\n",
       "      <td>34.245853</td>\n",
       "      <td>-5.856924</td>\n",
       "      <td>0.263</td>\n",
       "      <td>2048</td>\n",
       "      <td>4096</td>\n",
       "      <td>0</td>\n",
       "      <td>...</td>\n",
       "      <td>1.550000</td>\n",
       "      <td>3.490000</td>\n",
       "      <td>4.090000</td>\n",
       "      <td>5.510000</td>\n",
       "      <td>57773.062500</td>\n",
       "      <td>57763.066406</td>\n",
       "      <td>57756.054688</td>\n",
       "      <td>57781.058594</td>\n",
       "      <td>-9</td>\n",
       "      <td>1.0</td>\n",
       "    </tr>\n",
       "    <tr>\n",
       "      <th>4</th>\n",
       "      <td>1905022</td>\n",
       "      <td>b'UNKNOWN         '</td>\n",
       "      <td>0</td>\n",
       "      <td>0</td>\n",
       "      <td>6.930402</td>\n",
       "      <td>-42.952053</td>\n",
       "      <td>0.263</td>\n",
       "      <td>2048</td>\n",
       "      <td>4096</td>\n",
       "      <td>0</td>\n",
       "      <td>...</td>\n",
       "      <td>77.339996</td>\n",
       "      <td>119.080002</td>\n",
       "      <td>142.720001</td>\n",
       "      <td>147.770004</td>\n",
       "      <td>58014.066406</td>\n",
       "      <td>58071.031250</td>\n",
       "      <td>57985.218750</td>\n",
       "      <td>58071.031250</td>\n",
       "      <td>-9</td>\n",
       "      <td>-1.0</td>\n",
       "    </tr>\n",
       "  </tbody>\n",
       "</table>\n",
       "<p>5 rows × 96 columns</p>\n",
       "</div>"
      ],
      "text/plain": [
       "      SNID                 IAUC  FAKE  MASK_FLUXCOR_SNANA         RA  \\\n",
       "0  1642082  b'UNKNOWN         '     0                   0  35.169212   \n",
       "1  1294480  b'UNKNOWN         '     0                   0  34.010349   \n",
       "2  1402031  b'UNKNOWN         '     0                   0   8.426459   \n",
       "3  1690045  b'UNKNOWN         '     0                   0  34.245853   \n",
       "4  1905022  b'UNKNOWN         '     0                   0   6.930402   \n",
       "\n",
       "         DEC  PIXSIZE  NXPIX  NYPIX  SNTYPE  ...  HOSTGAL_SB_FLUXCAL_g  \\\n",
       "0  -5.698688    0.263   2048   4096       0  ...             27.120001   \n",
       "1  -5.383460    0.263   2048   4096       0  ...             28.950001   \n",
       "2 -44.096779    0.263   2048   4096       0  ...             -1.510000   \n",
       "3  -5.856924    0.263   2048   4096       0  ...              1.550000   \n",
       "4 -42.952053    0.263   2048   4096       0  ...             77.339996   \n",
       "\n",
       "   HOSTGAL_SB_FLUXCAL_r  HOSTGAL_SB_FLUXCAL_i  HOSTGAL_SB_FLUXCAL_z  \\\n",
       "0             78.250000            109.330002            138.820007   \n",
       "1            138.470001            249.429993            354.040009   \n",
       "2              2.420000              1.830000             -1.640000   \n",
       "3              3.490000              4.090000              5.510000   \n",
       "4            119.080002            142.720001            147.770004   \n",
       "\n",
       "        PEAKMJD   MJD_TRIGGER  MJD_DETECT_FIRST  MJD_DETECT_LAST  SEARCH_TYPE  \\\n",
       "0  57739.117188  57756.070312      57739.117188     57756.070312           -9   \n",
       "1  56956.085938     -9.000000      56956.085938     57311.109375           -9   \n",
       "2      0.010000     -9.000000      57642.109375        -9.000000           -9   \n",
       "3  57773.062500  57763.066406      57756.054688     57781.058594           -9   \n",
       "4  58014.066406  58071.031250      57985.218750     58071.031250           -9   \n",
       "\n",
       "   PRIVATE(AGN_SCAN)  \n",
       "0               -1.0  \n",
       "1               -1.0  \n",
       "2               -1.0  \n",
       "3                1.0  \n",
       "4               -1.0  \n",
       "\n",
       "[5 rows x 96 columns]"
      ]
     },
     "execution_count": 7,
     "metadata": {},
     "output_type": "execute_result"
    }
   ],
   "source": [
    "phot.head_df.head()"
   ]
  },
  {
   "cell_type": "markdown",
   "metadata": {},
   "source": [
    "We can see how many columns of metadata the `header` contains.\n",
    "\n",
    "Here we can basically find a single row per event, with all the ancilliary information useful for cosmology."
   ]
  },
  {
   "cell_type": "code",
   "execution_count": 8,
   "metadata": {},
   "outputs": [
    {
     "data": {
      "text/plain": [
       "Index(['SNID', 'IAUC', 'FAKE', 'MASK_FLUXCOR_SNANA', 'RA', 'DEC', 'PIXSIZE',\n",
       "       'NXPIX', 'NYPIX', 'SNTYPE', 'NOBS', 'PTROBS_MIN', 'PTROBS_MAX', 'MWEBV',\n",
       "       'MWEBV_ERR', 'REDSHIFT_HELIO', 'REDSHIFT_HELIO_ERR', 'REDSHIFT_FINAL',\n",
       "       'REDSHIFT_FINAL_ERR', 'REDSHIFT_QUALITYFLAG', 'MASK_REDSHIFT_SOURCE',\n",
       "       'VPEC', 'VPEC_ERR', 'HOSTGAL_NMATCH', 'HOSTGAL_NMATCH2',\n",
       "       'HOSTGAL_OBJID', 'HOSTGAL_FLAG', 'HOSTGAL_PHOTOZ', 'HOSTGAL_PHOTOZ_ERR',\n",
       "       'HOSTGAL_SPECZ', 'HOSTGAL_SPECZ_ERR', 'HOSTGAL_RA', 'HOSTGAL_DEC',\n",
       "       'HOSTGAL_SNSEP', 'HOSTGAL_DDLR', 'HOSTGAL_CONFUSION', 'HOSTGAL_LOGMASS',\n",
       "       'HOSTGAL_LOGMASS_ERR', 'HOSTGAL_LOGSFR', 'HOSTGAL_LOGSFR_ERR',\n",
       "       'HOSTGAL_LOGsSFR', 'HOSTGAL_LOGsSFR_ERR', 'HOSTGAL_COLOR',\n",
       "       'HOSTGAL_COLOR_ERR', 'HOSTGAL_ELLIPTICITY', 'HOSTGAL_OBJID2',\n",
       "       'HOSTGAL_SQRADIUS', 'HOSTGAL_OBJID_UNIQUE', 'HOSTGAL_MAG_g',\n",
       "       'HOSTGAL_MAG_r', 'HOSTGAL_MAG_i', 'HOSTGAL_MAG_z', 'HOSTGAL_MAGERR_g',\n",
       "       'HOSTGAL_MAGERR_r', 'HOSTGAL_MAGERR_i', 'HOSTGAL_MAGERR_z',\n",
       "       'HOSTGAL2_OBJID', 'HOSTGAL2_FLAG', 'HOSTGAL2_PHOTOZ',\n",
       "       'HOSTGAL2_PHOTOZ_ERR', 'HOSTGAL2_SPECZ', 'HOSTGAL2_SPECZ_ERR',\n",
       "       'HOSTGAL2_RA', 'HOSTGAL2_DEC', 'HOSTGAL2_SNSEP', 'HOSTGAL2_DDLR',\n",
       "       'HOSTGAL2_LOGMASS', 'HOSTGAL2_LOGMASS_ERR', 'HOSTGAL2_LOGSFR',\n",
       "       'HOSTGAL2_LOGSFR_ERR', 'HOSTGAL2_LOGsSFR', 'HOSTGAL2_LOGsSFR_ERR',\n",
       "       'HOSTGAL2_COLOR', 'HOSTGAL2_COLOR_ERR', 'HOSTGAL2_ELLIPTICITY',\n",
       "       'HOSTGAL2_OBJID2', 'HOSTGAL2_SQRADIUS', 'HOSTGAL2_OBJID_UNIQUE',\n",
       "       'HOSTGAL2_MAG_g', 'HOSTGAL2_MAG_r', 'HOSTGAL2_MAG_i', 'HOSTGAL2_MAG_z',\n",
       "       'HOSTGAL2_MAGERR_g', 'HOSTGAL2_MAGERR_r', 'HOSTGAL2_MAGERR_i',\n",
       "       'HOSTGAL2_MAGERR_z', 'HOSTGAL_SB_FLUXCAL_g', 'HOSTGAL_SB_FLUXCAL_r',\n",
       "       'HOSTGAL_SB_FLUXCAL_i', 'HOSTGAL_SB_FLUXCAL_z', 'PEAKMJD',\n",
       "       'MJD_TRIGGER', 'MJD_DETECT_FIRST', 'MJD_DETECT_LAST', 'SEARCH_TYPE',\n",
       "       'PRIVATE(AGN_SCAN)'],\n",
       "      dtype='object')"
      ]
     },
     "execution_count": 8,
     "metadata": {},
     "output_type": "execute_result"
    }
   ],
   "source": [
    "phot.head_df.columns"
   ]
  },
  {
   "cell_type": "markdown",
   "metadata": {},
   "source": [
    "We take for example the event 350 in our table:"
   ]
  },
  {
   "cell_type": "code",
   "execution_count": 9,
   "metadata": {},
   "outputs": [
    {
     "data": {
      "text/plain": [
       "{'SNID': 1449078,\n",
       " 'IAUC': b'UNKNOWN         ',\n",
       " 'FAKE': 0,\n",
       " 'MASK_FLUXCOR_SNANA': 0,\n",
       " 'RA': 53.647507,\n",
       " 'DEC': -28.908772,\n",
       " 'PIXSIZE': 0.263,\n",
       " 'NXPIX': 2048,\n",
       " 'NYPIX': 4096,\n",
       " 'SNTYPE': 29,\n",
       " 'NOBS': 126,\n",
       " 'PTROBS_MIN': 34555,\n",
       " 'PTROBS_MAX': 34680,\n",
       " 'MWEBV': 0.007580016,\n",
       " 'MWEBV_ERR': 0.0003790008,\n",
       " 'REDSHIFT_HELIO': 0.10876,\n",
       " 'REDSHIFT_HELIO_ERR': 0.001,\n",
       " 'REDSHIFT_FINAL': 0.108349,\n",
       " 'REDSHIFT_FINAL_ERR': 0.001,\n",
       " 'REDSHIFT_QUALITYFLAG': 0,\n",
       " 'MASK_REDSHIFT_SOURCE': 0,\n",
       " 'VPEC': 0.0,\n",
       " 'VPEC_ERR': 300.0,\n",
       " 'HOSTGAL_NMATCH': 1,\n",
       " 'HOSTGAL_NMATCH2': 1,\n",
       " 'HOSTGAL_OBJID': 102253,\n",
       " 'HOSTGAL_FLAG': 0,\n",
       " 'HOSTGAL_PHOTOZ': -999.0,\n",
       " 'HOSTGAL_PHOTOZ_ERR': -999.0,\n",
       " 'HOSTGAL_SPECZ': 0.1088,\n",
       " 'HOSTGAL_SPECZ_ERR': 0.001,\n",
       " 'HOSTGAL_RA': 53.64729,\n",
       " 'HOSTGAL_DEC': -28.908779,\n",
       " 'HOSTGAL_SNSEP': 0.684,\n",
       " 'HOSTGAL_DDLR': 0.727,\n",
       " 'HOSTGAL_CONFUSION': -99.0,\n",
       " 'HOSTGAL_LOGMASS': 7.996,\n",
       " 'HOSTGAL_LOGMASS_ERR': 0.042,\n",
       " 'HOSTGAL_LOGSFR': -0.091,\n",
       " 'HOSTGAL_LOGSFR_ERR': 0.47,\n",
       " 'HOSTGAL_LOGsSFR': -8.042,\n",
       " 'HOSTGAL_LOGsSFR_ERR': 0.47130138,\n",
       " 'HOSTGAL_COLOR': 0.002,\n",
       " 'HOSTGAL_COLOR_ERR': -999.0,\n",
       " 'HOSTGAL_ELLIPTICITY': -9999.0,\n",
       " 'HOSTGAL_OBJID2': 0,\n",
       " 'HOSTGAL_SQRADIUS': -9999.0,\n",
       " 'HOSTGAL_OBJID_UNIQUE': 0,\n",
       " 'HOSTGAL_MAG_g': 22.46,\n",
       " 'HOSTGAL_MAG_r': 22.23,\n",
       " 'HOSTGAL_MAG_i': 22.02,\n",
       " 'HOSTGAL_MAG_z': 21.97,\n",
       " 'HOSTGAL_MAGERR_g': 0.0,\n",
       " 'HOSTGAL_MAGERR_r': 0.0,\n",
       " 'HOSTGAL_MAGERR_i': 0.01,\n",
       " 'HOSTGAL_MAGERR_z': 0.01,\n",
       " 'HOSTGAL2_OBJID': 0,\n",
       " 'HOSTGAL2_FLAG': 0,\n",
       " 'HOSTGAL2_PHOTOZ': -999.0,\n",
       " 'HOSTGAL2_PHOTOZ_ERR': -999.0,\n",
       " 'HOSTGAL2_SPECZ': -999.0,\n",
       " 'HOSTGAL2_SPECZ_ERR': -999.0,\n",
       " 'HOSTGAL2_RA': -999.0,\n",
       " 'HOSTGAL2_DEC': -999.0,\n",
       " 'HOSTGAL2_SNSEP': -9.0,\n",
       " 'HOSTGAL2_DDLR': -9.0,\n",
       " 'HOSTGAL2_LOGMASS': -999.0,\n",
       " 'HOSTGAL2_LOGMASS_ERR': -9.0,\n",
       " 'HOSTGAL2_LOGSFR': -9999.0,\n",
       " 'HOSTGAL2_LOGSFR_ERR': -9999.0,\n",
       " 'HOSTGAL2_LOGsSFR': -9999.0,\n",
       " 'HOSTGAL2_LOGsSFR_ERR': -9999.0,\n",
       " 'HOSTGAL2_COLOR': -9999.0,\n",
       " 'HOSTGAL2_COLOR_ERR': -9999.0,\n",
       " 'HOSTGAL2_ELLIPTICITY': -9999.0,\n",
       " 'HOSTGAL2_OBJID2': 0,\n",
       " 'HOSTGAL2_SQRADIUS': -9999.0,\n",
       " 'HOSTGAL2_OBJID_UNIQUE': 0,\n",
       " 'HOSTGAL2_MAG_g': -999.0,\n",
       " 'HOSTGAL2_MAG_r': -999.0,\n",
       " 'HOSTGAL2_MAG_i': -999.0,\n",
       " 'HOSTGAL2_MAG_z': -999.0,\n",
       " 'HOSTGAL2_MAGERR_g': -999.0,\n",
       " 'HOSTGAL2_MAGERR_r': -999.0,\n",
       " 'HOSTGAL2_MAGERR_i': -999.0,\n",
       " 'HOSTGAL2_MAGERR_z': -999.0,\n",
       " 'HOSTGAL_SB_FLUXCAL_g': 22.52,\n",
       " 'HOSTGAL_SB_FLUXCAL_r': 27.24,\n",
       " 'HOSTGAL_SB_FLUXCAL_i': 35.06,\n",
       " 'HOSTGAL_SB_FLUXCAL_z': 34.01,\n",
       " 'PEAKMJD': 57686.113,\n",
       " 'MJD_TRIGGER': 57667.152,\n",
       " 'MJD_DETECT_FIRST': 57660.28,\n",
       " 'MJD_DETECT_LAST': 57800.105,\n",
       " 'SEARCH_TYPE': -9,\n",
       " 'PRIVATE(AGN_SCAN)': 1.0}"
      ]
     },
     "execution_count": 9,
     "metadata": {},
     "output_type": "execute_result"
    }
   ],
   "source": [
    "dict(phot.head_df.iloc[350])"
   ]
  },
  {
   "cell_type": "markdown",
   "metadata": {},
   "source": [
    "We can check the `CID`, position and `PEAKMJD`:"
   ]
  },
  {
   "cell_type": "code",
   "execution_count": 10,
   "metadata": {},
   "outputs": [
    {
     "data": {
      "text/plain": [
       "SNID            1449078\n",
       "RA            53.647507\n",
       "DEC          -28.908772\n",
       "PEAKMJD    57686.113281\n",
       "Name: 350, dtype: object"
      ]
     },
     "execution_count": 10,
     "metadata": {},
     "output_type": "execute_result"
    }
   ],
   "source": [
    "phot.head_df.iloc[350][['SNID', 'RA', 'DEC', 'PEAKMJD']]"
   ]
  },
  {
   "cell_type": "markdown",
   "metadata": {},
   "source": [
    "We see that the `phot` instance table has many rows and each one of them is indexed by the `SNID`. \n",
    "\n",
    "`phot` can also show us the list of `SNID` in the files."
   ]
  },
  {
   "cell_type": "code",
   "execution_count": 11,
   "metadata": {},
   "outputs": [
    {
     "data": {
      "text/plain": [
       "19706"
      ]
     },
     "execution_count": 11,
     "metadata": {},
     "output_type": "execute_result"
    }
   ],
   "source": [
    "len(phot.head_df)"
   ]
  },
  {
   "cell_type": "code",
   "execution_count": 12,
   "metadata": {},
   "outputs": [
    {
     "data": {
      "text/plain": [
       "array([1642082, 1294480, 1402031, ..., 1279857, 1246351, 1255127])"
      ]
     },
     "execution_count": 12,
     "metadata": {},
     "output_type": "execute_result"
    }
   ],
   "source": [
    "phot.cid_recs"
   ]
  },
  {
   "cell_type": "markdown",
   "metadata": {},
   "source": [
    "We have a search utility to query the `CID` we are interested in:"
   ]
  },
  {
   "cell_type": "code",
   "execution_count": 13,
   "metadata": {},
   "outputs": [
    {
     "name": "stdout",
     "output_type": "stream",
     "text": [
      "1449078\n"
     ]
    }
   ],
   "source": [
    "myCid = phot.cid_recs[350]\n",
    "print(myCid)"
   ]
  },
  {
   "cell_type": "code",
   "execution_count": 18,
   "metadata": {
    "scrolled": true
   },
   "outputs": [],
   "source": [
    "results = phot.query_cids(myCid)"
   ]
  },
  {
   "cell_type": "code",
   "execution_count": 19,
   "metadata": {},
   "outputs": [
    {
     "data": {
      "text/plain": [
       "350    53.647507\n",
       "Name: RA, dtype: float64"
      ]
     },
     "execution_count": 19,
     "metadata": {},
     "output_type": "execute_result"
    }
   ],
   "source": [
    "results[myCid]['RA']"
   ]
  },
  {
   "cell_type": "markdown",
   "metadata": {},
   "source": [
    "This returns a dictionary with keys using our chosen `CID` and the metadata in a nested dictionary.\n",
    "\n",
    "It also works with lists of `CID`s if needed.\n",
    "\n",
    "We can load this particular light-curve, for inspection. In this case we make use of the method `get_lc` :"
   ]
  },
  {
   "cell_type": "code",
   "execution_count": 20,
   "metadata": {},
   "outputs": [
    {
     "data": {
      "text/html": [
       "<div>\n",
       "<style scoped>\n",
       "    .dataframe tbody tr th:only-of-type {\n",
       "        vertical-align: middle;\n",
       "    }\n",
       "\n",
       "    .dataframe tbody tr th {\n",
       "        vertical-align: top;\n",
       "    }\n",
       "\n",
       "    .dataframe thead th {\n",
       "        text-align: right;\n",
       "    }\n",
       "</style>\n",
       "<table border=\"1\" class=\"dataframe\">\n",
       "  <thead>\n",
       "    <tr style=\"text-align: right;\">\n",
       "      <th></th>\n",
       "      <th>MJD</th>\n",
       "      <th>BAND</th>\n",
       "      <th>CCDNUM</th>\n",
       "      <th>IMGNUM</th>\n",
       "      <th>FIELD</th>\n",
       "      <th>PHOTFLAG</th>\n",
       "      <th>PHOTPROB</th>\n",
       "      <th>FLUXCAL</th>\n",
       "      <th>FLUXCALERR</th>\n",
       "      <th>PSF_SIG1</th>\n",
       "      <th>...</th>\n",
       "      <th>PSF_RATIO</th>\n",
       "      <th>SKY_SIG</th>\n",
       "      <th>SKY_SIG_T</th>\n",
       "      <th>RDNOISE</th>\n",
       "      <th>ZEROPT</th>\n",
       "      <th>ZEROPT_ERR</th>\n",
       "      <th>GAIN</th>\n",
       "      <th>XPIX</th>\n",
       "      <th>YPIX</th>\n",
       "      <th>MAG</th>\n",
       "    </tr>\n",
       "  </thead>\n",
       "  <tbody>\n",
       "    <tr>\n",
       "      <th>34555</th>\n",
       "      <td>57623.401</td>\n",
       "      <td>r</td>\n",
       "      <td>20</td>\n",
       "      <td>566629</td>\n",
       "      <td>C2</td>\n",
       "      <td>1</td>\n",
       "      <td>0.0</td>\n",
       "      <td>1.050</td>\n",
       "      <td>8.568</td>\n",
       "      <td>2.375</td>\n",
       "      <td>...</td>\n",
       "      <td>0.0</td>\n",
       "      <td>78.500000</td>\n",
       "      <td>0.0</td>\n",
       "      <td>-9.0</td>\n",
       "      <td>32.273998</td>\n",
       "      <td>0.0</td>\n",
       "      <td>1.02</td>\n",
       "      <td>1963.099976</td>\n",
       "      <td>936.599976</td>\n",
       "      <td>27.447027</td>\n",
       "    </tr>\n",
       "    <tr>\n",
       "      <th>34556</th>\n",
       "      <td>57623.403</td>\n",
       "      <td>i</td>\n",
       "      <td>20</td>\n",
       "      <td>566630</td>\n",
       "      <td>C2</td>\n",
       "      <td>1</td>\n",
       "      <td>0.0</td>\n",
       "      <td>6.220</td>\n",
       "      <td>8.368</td>\n",
       "      <td>2.482</td>\n",
       "      <td>...</td>\n",
       "      <td>0.0</td>\n",
       "      <td>97.099998</td>\n",
       "      <td>0.0</td>\n",
       "      <td>-9.0</td>\n",
       "      <td>32.546001</td>\n",
       "      <td>0.0</td>\n",
       "      <td>1.03</td>\n",
       "      <td>1960.199951</td>\n",
       "      <td>940.000000</td>\n",
       "      <td>25.515524</td>\n",
       "    </tr>\n",
       "    <tr>\n",
       "      <th>34557</th>\n",
       "      <td>57623.408</td>\n",
       "      <td>z</td>\n",
       "      <td>20</td>\n",
       "      <td>566631</td>\n",
       "      <td>C2</td>\n",
       "      <td>2049</td>\n",
       "      <td>0.0</td>\n",
       "      <td>-11.037</td>\n",
       "      <td>7.819</td>\n",
       "      <td>2.284</td>\n",
       "      <td>...</td>\n",
       "      <td>0.0</td>\n",
       "      <td>162.399994</td>\n",
       "      <td>0.0</td>\n",
       "      <td>-9.0</td>\n",
       "      <td>33.049000</td>\n",
       "      <td>0.0</td>\n",
       "      <td>1.02</td>\n",
       "      <td>1935.000000</td>\n",
       "      <td>954.799988</td>\n",
       "      <td>NaN</td>\n",
       "    </tr>\n",
       "    <tr>\n",
       "      <th>34558</th>\n",
       "      <td>57627.392</td>\n",
       "      <td>g</td>\n",
       "      <td>20</td>\n",
       "      <td>568227</td>\n",
       "      <td>C2</td>\n",
       "      <td>1</td>\n",
       "      <td>0.0</td>\n",
       "      <td>1.340</td>\n",
       "      <td>8.981</td>\n",
       "      <td>2.515</td>\n",
       "      <td>...</td>\n",
       "      <td>0.0</td>\n",
       "      <td>45.400002</td>\n",
       "      <td>0.0</td>\n",
       "      <td>-9.0</td>\n",
       "      <td>31.580999</td>\n",
       "      <td>0.0</td>\n",
       "      <td>1.07</td>\n",
       "      <td>1965.199951</td>\n",
       "      <td>951.900024</td>\n",
       "      <td>27.182238</td>\n",
       "    </tr>\n",
       "    <tr>\n",
       "      <th>34559</th>\n",
       "      <td>57627.394</td>\n",
       "      <td>r</td>\n",
       "      <td>20</td>\n",
       "      <td>568228</td>\n",
       "      <td>C2</td>\n",
       "      <td>1</td>\n",
       "      <td>0.0</td>\n",
       "      <td>-11.648</td>\n",
       "      <td>13.485</td>\n",
       "      <td>2.551</td>\n",
       "      <td>...</td>\n",
       "      <td>0.0</td>\n",
       "      <td>63.099998</td>\n",
       "      <td>0.0</td>\n",
       "      <td>-9.0</td>\n",
       "      <td>31.596001</td>\n",
       "      <td>0.0</td>\n",
       "      <td>1.02</td>\n",
       "      <td>1952.300049</td>\n",
       "      <td>949.200012</td>\n",
       "      <td>NaN</td>\n",
       "    </tr>\n",
       "  </tbody>\n",
       "</table>\n",
       "<p>5 rows × 21 columns</p>\n",
       "</div>"
      ],
      "text/plain": [
       "             MJD BAND  CCDNUM  IMGNUM         FIELD  PHOTFLAG  PHOTPROB  \\\n",
       "34555  57623.401   r       20  566629  C2                   1       0.0   \n",
       "34556  57623.403   i       20  566630  C2                   1       0.0   \n",
       "34557  57623.408   z       20  566631  C2                2049       0.0   \n",
       "34558  57627.392   g       20  568227  C2                   1       0.0   \n",
       "34559  57627.394   r       20  568228  C2                   1       0.0   \n",
       "\n",
       "       FLUXCAL  FLUXCALERR  PSF_SIG1  ...  PSF_RATIO     SKY_SIG  SKY_SIG_T  \\\n",
       "34555    1.050       8.568     2.375  ...        0.0   78.500000        0.0   \n",
       "34556    6.220       8.368     2.482  ...        0.0   97.099998        0.0   \n",
       "34557  -11.037       7.819     2.284  ...        0.0  162.399994        0.0   \n",
       "34558    1.340       8.981     2.515  ...        0.0   45.400002        0.0   \n",
       "34559  -11.648      13.485     2.551  ...        0.0   63.099998        0.0   \n",
       "\n",
       "       RDNOISE     ZEROPT  ZEROPT_ERR  GAIN         XPIX        YPIX  \\\n",
       "34555     -9.0  32.273998         0.0  1.02  1963.099976  936.599976   \n",
       "34556     -9.0  32.546001         0.0  1.03  1960.199951  940.000000   \n",
       "34557     -9.0  33.049000         0.0  1.02  1935.000000  954.799988   \n",
       "34558     -9.0  31.580999         0.0  1.07  1965.199951  951.900024   \n",
       "34559     -9.0  31.596001         0.0  1.02  1952.300049  949.200012   \n",
       "\n",
       "             MAG  \n",
       "34555  27.447027  \n",
       "34556  25.515524  \n",
       "34557        NaN  \n",
       "34558  27.182238  \n",
       "34559        NaN  \n",
       "\n",
       "[5 rows x 21 columns]"
      ]
     },
     "execution_count": 20,
     "metadata": {},
     "output_type": "execute_result"
    }
   ],
   "source": [
    "lc = phot.get_lc(myCid)\n",
    "lc.head()"
   ]
  },
  {
   "cell_type": "code",
   "execution_count": 21,
   "metadata": {},
   "outputs": [
    {
     "data": {
      "text/plain": [
       "Index(['MJD', 'BAND', 'CCDNUM', 'IMGNUM', 'FIELD', 'PHOTFLAG', 'PHOTPROB',\n",
       "       'FLUXCAL', 'FLUXCALERR', 'PSF_SIG1', 'PSF_SIG2', 'PSF_RATIO', 'SKY_SIG',\n",
       "       'SKY_SIG_T', 'RDNOISE', 'ZEROPT', 'ZEROPT_ERR', 'GAIN', 'XPIX', 'YPIX',\n",
       "       'MAG'],\n",
       "      dtype='object')"
      ]
     },
     "execution_count": 21,
     "metadata": {},
     "output_type": "execute_result"
    }
   ],
   "source": [
    "lc.columns"
   ]
  },
  {
   "cell_type": "markdown",
   "metadata": {},
   "source": [
    "We obtain another DataFrame with the time-series data loaded in for our `CID`.\n",
    "\n",
    "We can also use the `get_lcs` for multiple events, providing a list of `CID`s in that case.\n",
    "\n",
    "Let's try to visualize this light-curve using the `plot` module from `dessndr`"
   ]
  },
  {
   "cell_type": "code",
   "execution_count": 24,
   "metadata": {},
   "outputs": [],
   "source": [
    "from dessndr import plot"
   ]
  },
  {
   "cell_type": "code",
   "execution_count": 25,
   "metadata": {},
   "outputs": [
    {
     "data": {
      "text/plain": [
       "(<Figure size 1000x600 with 1 Axes>,\n",
       " <Axes: title={'center': 'Supernova Light CurveCID: 1449078'}, xlabel='MJD', ylabel='Flux'>)"
      ]
     },
     "execution_count": 25,
     "metadata": {},
     "output_type": "execute_result"
    },
    {
     "data": {
      "image/png": "[encoded data removed]",
      "text/plain": [
       "<Figure size 1000x600 with 1 Axes>"
      ]
     },
     "metadata": {},
     "output_type": "display_data"
    }
   ],
   "source": [
    "plot.plot_sn_light_curve(lc, CID=myCid, figsize=(10, 6))"
   ]
  },
  {
   "cell_type": "code",
   "execution_count": null,
   "metadata": {},
   "outputs": [],
   "source": []
  },
  {
   "cell_type": "code",
   "execution_count": null,
   "metadata": {},
   "outputs": [],
   "source": []
  }
 ],
 "metadata": {
  "kernelspec": {
   "display_name": "Python 3 (ipykernel)",
   "language": "python",
   "name": "python3"
  },
  "language_info": {
   "codemirror_mode": {
    "name": "ipython",
    "version": 3
   },
   "file_extension": ".py",
   "mimetype": "text/x-python",
   "name": "python",
   "nbconvert_exporter": "python",
   "pygments_lexer": "ipython3",
   "version": "3.12.2"
  }
 },
 "nbformat": 4,
 "nbformat_minor": 4
}
