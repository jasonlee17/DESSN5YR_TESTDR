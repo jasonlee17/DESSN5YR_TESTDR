{
 "cells": [
  {
   "cell_type": "markdown",
   "id": "c8851e2a-c58a-4230-9878-ecf66a1a1d95",
   "metadata": {},
   "source": [
    "# Tutorial Part 3: Load LCPlot"
   ]
  },
  {
   "cell_type": "markdown",
   "id": "b5a73af3-cf07-4f19-9a88-099a1013d08e",
   "metadata": {},
   "source": [
    "<img align=\"left\" src = ../_static/images/logo044.jpg width=120 style=\"padding: 10px\"> \n",
    "<br><b>Dark Energy Survey Supernova Program</b>\n",
    "\n",
    "<b>Tutorial Part 3</b>\n",
    "<b>Load LC Plot files</b> <br>\n",
    "Contact author: Bruno Sánchez<br>"
   ]
  },
  {
   "cell_type": "code",
   "execution_count": 1,
   "id": "242b4d8e-c8c0-43b5-8d7d-5ac5d396fc5c",
   "metadata": {},
   "outputs": [],
   "source": [
    "import numpy as np\n",
    "import matplotlib.pyplot as plt"
   ]
  },
  {
   "cell_type": "code",
   "execution_count": 2,
   "id": "f5a8e031-e894-4df2-b887-6cf3513aa109",
   "metadata": {},
   "outputs": [],
   "source": [
    "import utils"
   ]
  },
  {
   "cell_type": "code",
   "execution_count": 3,
   "id": "72228909-f486-400d-a64b-c8be534e567d",
   "metadata": {},
   "outputs": [],
   "source": [
    "import pandas as pd"
   ]
  },
  {
   "cell_type": "code",
   "execution_count": 14,
   "id": "a274f951-3088-4868-ad4c-d7c106df5db8",
   "metadata": {},
   "outputs": [
    {
     "name": "stderr",
     "output_type": "stream",
     "text": [
      "/var/folders/61/jz5zv4qn1ml4kvb_mzhpz5500000gn/T/ipykernel_29296/2884348319.py:1: FutureWarning: The 'delim_whitespace' keyword in pd.read_csv is deprecated and will be removed in a future version. Use ``sep='\\s+'`` instead\n",
      "  lcplot_data = pd.read_csv(\n"
     ]
    }
   ],
   "source": [
    "lcplot_data = pd.read_csv(\n",
    "    '/Users/sanchez/Data/DES/DES-SN5YR_DataRelease/0_DATA/DES_FITOPT000.LCPLOT.gz', \n",
    "    compression='gzip', delim_whitespace=True, \n",
    ")"
   ]
  },
  {
   "cell_type": "code",
   "execution_count": 16,
   "id": "b3472ee5-c9b3-4b5a-a6db-000957ccd2e4",
   "metadata": {},
   "outputs": [
    {
     "data": {
      "text/plain": [
       "1635"
      ]
     },
     "execution_count": 16,
     "metadata": {},
     "output_type": "execute_result"
    }
   ],
   "source": [
    "len(lcplot_data.SNID.unique())"
   ]
  },
  {
   "cell_type": "code",
   "execution_count": 12,
   "id": "5bc27091-4be9-4972-a548-4e06af806cb3",
   "metadata": {},
   "outputs": [
    {
     "data": {
      "text/plain": [
       "SNID           1562098\n",
       "MJD           57701.07\n",
       "PHASE           -19.64\n",
       "FLUXCAL          12.53\n",
       "FLUXCALERR      8.9893\n",
       "DATA_MODEL           1\n",
       "BAND                 r\n",
       "CHI2               1.3\n",
       "VAR1                 1\n",
       "Name: 0, dtype: object"
      ]
     },
     "execution_count": 12,
     "metadata": {},
     "output_type": "execute_result"
    }
   ],
   "source": [
    "lcplot_data.iloc[0]"
   ]
  },
  {
   "cell_type": "code",
   "execution_count": 13,
   "id": "53fe5ae4-58ae-42a5-b836-b902657f9bc4",
   "metadata": {},
   "outputs": [
    {
     "data": {
      "text/plain": [
       "count    594133.0\n",
       "mean          1.0\n",
       "std           0.0\n",
       "min           1.0\n",
       "25%           1.0\n",
       "50%           1.0\n",
       "75%           1.0\n",
       "max           1.0\n",
       "Name: VAR1, dtype: float64"
      ]
     },
     "execution_count": 13,
     "metadata": {},
     "output_type": "execute_result"
    }
   ],
   "source": [
    "lcplot_data.VAR1.describe()"
   ]
  },
  {
   "cell_type": "code",
   "execution_count": 22,
   "id": "766afc94-6b15-4b28-85c5-e102d3bd8845",
   "metadata": {},
   "outputs": [],
   "source": [
    "head_file = '/Users/sanchez/Data/DES/DES-SN5YR_DataRelease/1_SIMULATIONS/SNIa_SIMULATIONS/PIP_D5YR_SIM_V2_DATADESSIM_4D_P21-0001/PIP_D5YR_SIM_V2_DATADESSI3bbea_SNIaMODEL0-0001_HEAD.FITS.gz'\n",
    "phot_file = '/Users/sanchez/Data/DES/DES-SN5YR_DataRelease/1_SIMULATIONS/SNIa_SIMULATIONS/PIP_D5YR_SIM_V2_DATADESSIM_4D_P21-0001/PIP_D5YR_SIM_V2_DATADESSI3bbea_SNIaMODEL0-0001_PHOT.FITS.gz'"
   ]
  },
  {
   "cell_type": "code",
   "execution_count": 23,
   "id": "dc2dde50-6010-46ea-b78b-5fa63fcd423c",
   "metadata": {},
   "outputs": [],
   "source": [
    "phot = utils.PhotFITS('/Users/sanchez/Data/DES/DES-SN5YR_DataRelease/1_SIMULATIONS/SNIa_SIMULATIONS/PIP_D5YR_SIM_V2_DATADESSIM_4D_P21-0001/PIP_D5YR_SIM_V2_DATADESSI3bbea_SNIaMODEL0-0001')"
   ]
  }
 ],
 "metadata": {
  "kernelspec": {
   "display_name": "Python 3 (ipykernel)",
   "language": "python",
   "name": "python3"
  },
  "language_info": {
   "codemirror_mode": {
    "name": "ipython",
    "version": 3
   },
   "file_extension": ".py",
   "mimetype": "text/x-python",
   "name": "python",
   "nbconvert_exporter": "python",
   "pygments_lexer": "ipython3",
   "version": "3.12.2"
  }
 },
 "nbformat": 4,
 "nbformat_minor": 5
}
