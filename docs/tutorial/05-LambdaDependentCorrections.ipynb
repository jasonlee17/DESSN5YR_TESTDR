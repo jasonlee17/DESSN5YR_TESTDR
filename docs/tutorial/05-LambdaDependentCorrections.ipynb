{
 "cells": [
  {
   "cell_type": "markdown",
   "id": "faaaa48e-ed99-4cc7-89ec-243e06d12980",
   "metadata": {},
   "source": [
    "# Tutorial Part 5: Lambda Dependent corrections "
   ]
  },
  {
   "cell_type": "markdown",
   "id": "959f6772-16d2-49f1-935e-fe34110e806b",
   "metadata": {},
   "source": [
    "<img align=\"left\" src = ../_static/images/logo044.jpg width=120 style=\"padding: 10px\"> \n",
    "<br><b>Dark Energy Survey Supernova Program</b>\n",
    "\n",
    "<b>Tutorial Part 5</b>\n",
    "<b>Lambda Dependent corrections</b> <br>\n",
    "Contact author: Jason Lee<br>"
   ]
  },
  {
   "cell_type": "markdown",
   "id": "0e20eabb-d043-4242-b799-d382b098f088",
   "metadata": {},
   "source": [
    "Here, we demonstrate how we obtain our magnitude corrections for the SHAPE (DCR + $\\lambda$-dependent seeing) and COORD (DCR only) effects starting from the flux ratio tables and the altitude offset vs. g-i magnitude for each exposure. "
   ]
  },
  {
   "cell_type": "code",
   "execution_count": 1,
   "id": "ebde1480-f326-4ed9-869a-9355c5bc3ef7",
   "metadata": {
    "tags": []
   },
   "outputs": [
    {
     "name": "stderr",
     "output_type": "stream",
     "text": [
      "/var/folders/61/jz5zv4qn1ml4kvb_mzhpz5500000gn/T/ipykernel_73438/2027958474.py:2: DeprecationWarning: \n",
      "Pyarrow will become a required dependency of pandas in the next major release of pandas (pandas 3.0),\n",
      "(to allow more performant data types, such as the Arrow string type, and better interoperability with other libraries)\n",
      "but was not found to be installed on your system.\n",
      "If this would cause problems for you,\n",
      "please provide us feedback at https://github.com/pandas-dev/pandas/issues/54466\n",
      "        \n",
      "  import pandas as pd\n"
     ]
    }
   ],
   "source": [
    "import numpy as np\n",
    "import pandas as pd\n",
    "import matplotlib.pyplot as plt\n",
    "from scipy.interpolate import RegularGridInterpolator\n",
    "import astropy.units as u\n",
    "from astropy.coordinates import Angle, SkyCoord, AltAz, EarthLocation\n",
    "from astropy.time import Time\n",
    "from astropy.coordinates import Angle\n",
    "from astropy.coordinates import AltAz, ICRS\n",
    "from scipy.interpolate import interp1d"
   ]
  },
  {
   "cell_type": "code",
   "execution_count": 2,
   "id": "8d4bfe2a-79c9-4bc1-9533-3ba15adab131",
   "metadata": {
    "tags": []
   },
   "outputs": [],
   "source": [
    "earth_location = EarthLocation.of_site('ctio')"
   ]
  },
  {
   "cell_type": "code",
   "execution_count": 3,
   "id": "48b1bda4-fe59-496d-b7a4-228a343aad58",
   "metadata": {
    "tags": []
   },
   "outputs": [],
   "source": [
    "DES_5YR_DCR_path = '../../../../DES-SN5YR/6_DCR_CORRECTIONS/'"
   ]
  },
  {
   "cell_type": "markdown",
   "id": "9b62cd7b-f6e2-4948-b156-55370d415f08",
   "metadata": {},
   "source": [
    "## 1. SHAPE effect (starting from the flux ratio (correct vs. uncorrected) tables)"
   ]
  },
  {
   "cell_type": "markdown",
   "id": "e37970b1-7060-4e6b-a728-18d6201c59b3",
   "metadata": {
    "tags": []
   },
   "source": [
    "### Reading tables for SHAPE effect\n",
    "\n",
    "flux ratio values table gives the flux ratio to when using the average color star as the PSF table columns = g-i values, AM_values, PSF FWHM values in arcseconds"
   ]
  },
  {
   "cell_type": "code",
   "execution_count": 4,
   "id": "f81ae4f4-d631-4931-9296-6bcdfeea9fb6",
   "metadata": {
    "tags": []
   },
   "outputs": [],
   "source": [
    "flux_ratio_values_g_table = np.load(DES_5YR_DCR_path + 'flux_ratio_values_g_table_DCR_shape.npy')\n",
    "g_table_columns = np.load(DES_5YR_DCR_path + 'g_table_DCR_shape_xyz_columns.npy', allow_pickle=True)\n",
    "\n",
    "flux_ratio_values_r_table = np.load(DES_5YR_DCR_path + 'flux_ratio_values_r_table_DCR_shape.npy')\n",
    "r_table_columns = np.load(DES_5YR_DCR_path + 'r_table_DCR_shape_xyz_columns.npy', allow_pickle=True)"
   ]
  },
  {
   "cell_type": "markdown",
   "id": "aa2c118b-5cad-427d-b0fc-370952197437",
   "metadata": {
    "tags": []
   },
   "source": [
    "Using the GridInterpolator to 3D interpolate between the column values and flux ratio"
   ]
  },
  {
   "cell_type": "code",
   "execution_count": 5,
   "id": "45312182-fc17-49d7-b597-85d2369384d7",
   "metadata": {
    "tags": []
   },
   "outputs": [],
   "source": [
    "g_i_values_g, AM_values_g, psf_fwhms_g = g_table_columns\n",
    "g_i_values_r, AM_values_r, psf_fwhms_r = r_table_columns\n",
    "flux_interp_g_all = RegularGridInterpolator((g_i_values_g, AM_values_g, psf_fwhms_g), flux_ratio_values_g_table, bounds_error=False, fill_value = None)\n",
    "flux_interp_r_all = RegularGridInterpolator((g_i_values_r, AM_values_r, psf_fwhms_r), flux_ratio_values_r_table, bounds_error=False, fill_value = None)"
   ]
  },
  {
   "cell_type": "markdown",
   "id": "d261f505-773a-4385-b774-6a80fb900c12",
   "metadata": {
    "tags": []
   },
   "source": [
    "MCOR_220929 contains all the MAGCORs (both COORD and SHAPE) to be added to the uncorrected (SALT2 or SALT3) magnitudes"
   ]
  },
  {
   "cell_type": "code",
   "execution_count": 6,
   "id": "6bde7758-f5ca-478e-a0a7-1e99c99caa3b",
   "metadata": {
    "tags": []
   },
   "outputs": [
    {
     "data": {
      "text/html": [
       "<div>\n",
       "<style scoped>\n",
       "    .dataframe tbody tr th:only-of-type {\n",
       "        vertical-align: middle;\n",
       "    }\n",
       "\n",
       "    .dataframe tbody tr th {\n",
       "        vertical-align: top;\n",
       "    }\n",
       "\n",
       "    .dataframe thead th {\n",
       "        text-align: right;\n",
       "    }\n",
       "</style>\n",
       "<table border=\"1\" class=\"dataframe\">\n",
       "  <thead>\n",
       "    <tr style=\"text-align: right;\">\n",
       "      <th></th>\n",
       "      <th>Unnamed: 0</th>\n",
       "      <th>Unnamed: 0.1</th>\n",
       "      <th>CID</th>\n",
       "      <th>EXPNUM</th>\n",
       "      <th>CCDNUM</th>\n",
       "      <th>MJD</th>\n",
       "      <th>BAND</th>\n",
       "      <th>TREST</th>\n",
       "      <th>LAMREST</th>\n",
       "      <th>SNR</th>\n",
       "      <th>...</th>\n",
       "      <th>HA</th>\n",
       "      <th>dRA</th>\n",
       "      <th>dDEC</th>\n",
       "      <th>CUTS</th>\n",
       "      <th>ddRA</th>\n",
       "      <th>ddDEC</th>\n",
       "      <th>ADJOFF</th>\n",
       "      <th>PSF_FWHM_ASEC</th>\n",
       "      <th>MAGCOR_COORD</th>\n",
       "      <th>MAGCOR_SHAPE</th>\n",
       "    </tr>\n",
       "  </thead>\n",
       "  <tbody>\n",
       "    <tr>\n",
       "      <th>0</th>\n",
       "      <td>0</td>\n",
       "      <td>3627</td>\n",
       "      <td>1246281</td>\n",
       "      <td>255449</td>\n",
       "      <td>51</td>\n",
       "      <td>56614.0731</td>\n",
       "      <td>g</td>\n",
       "      <td>49.2</td>\n",
       "      <td>3613.5</td>\n",
       "      <td>1.7</td>\n",
       "      <td>...</td>\n",
       "      <td>b'-02:46:38.520'</td>\n",
       "      <td>0.017590</td>\n",
       "      <td>0.004682</td>\n",
       "      <td>True</td>\n",
       "      <td>0.038003</td>\n",
       "      <td>0.009945</td>\n",
       "      <td>0.039283</td>\n",
       "      <td>0.927</td>\n",
       "      <td>-0.002618</td>\n",
       "      <td>0.002402</td>\n",
       "    </tr>\n",
       "    <tr>\n",
       "      <th>1</th>\n",
       "      <td>1</td>\n",
       "      <td>3655</td>\n",
       "      <td>1246281</td>\n",
       "      <td>255888</td>\n",
       "      <td>51</td>\n",
       "      <td>56615.0961</td>\n",
       "      <td>g</td>\n",
       "      <td>49.9</td>\n",
       "      <td>3613.5</td>\n",
       "      <td>1.8</td>\n",
       "      <td>...</td>\n",
       "      <td>b'-02:09:31.400'</td>\n",
       "      <td>0.012814</td>\n",
       "      <td>0.003172</td>\n",
       "      <td>True</td>\n",
       "      <td>0.033227</td>\n",
       "      <td>0.008435</td>\n",
       "      <td>0.034281</td>\n",
       "      <td>0.997</td>\n",
       "      <td>-0.001724</td>\n",
       "      <td>0.001877</td>\n",
       "    </tr>\n",
       "    <tr>\n",
       "      <th>2</th>\n",
       "      <td>2</td>\n",
       "      <td>4066</td>\n",
       "      <td>1246281</td>\n",
       "      <td>238052</td>\n",
       "      <td>51</td>\n",
       "      <td>56559.1905</td>\n",
       "      <td>g</td>\n",
       "      <td>8.1</td>\n",
       "      <td>3613.5</td>\n",
       "      <td>5.0</td>\n",
       "      <td>...</td>\n",
       "      <td>b'-03:33:58.020'</td>\n",
       "      <td>-0.022856</td>\n",
       "      <td>-0.007003</td>\n",
       "      <td>True</td>\n",
       "      <td>-0.002442</td>\n",
       "      <td>-0.001740</td>\n",
       "      <td>0.002999</td>\n",
       "      <td>1.330</td>\n",
       "      <td>-0.000007</td>\n",
       "      <td>-0.004349</td>\n",
       "    </tr>\n",
       "    <tr>\n",
       "      <th>3</th>\n",
       "      <td>3</td>\n",
       "      <td>4080</td>\n",
       "      <td>1246281</td>\n",
       "      <td>238984</td>\n",
       "      <td>51</td>\n",
       "      <td>56563.2002</td>\n",
       "      <td>g</td>\n",
       "      <td>11.1</td>\n",
       "      <td>3613.5</td>\n",
       "      <td>9.0</td>\n",
       "      <td>...</td>\n",
       "      <td>b'-03:04:13.260'</td>\n",
       "      <td>-0.017628</td>\n",
       "      <td>-0.004924</td>\n",
       "      <td>True</td>\n",
       "      <td>0.002786</td>\n",
       "      <td>0.000338</td>\n",
       "      <td>0.002806</td>\n",
       "      <td>1.344</td>\n",
       "      <td>-0.000006</td>\n",
       "      <td>-0.003640</td>\n",
       "    </tr>\n",
       "    <tr>\n",
       "      <th>4</th>\n",
       "      <td>4</td>\n",
       "      <td>4108</td>\n",
       "      <td>1246281</td>\n",
       "      <td>242477</td>\n",
       "      <td>51</td>\n",
       "      <td>56575.1914</td>\n",
       "      <td>g</td>\n",
       "      <td>20.1</td>\n",
       "      <td>3613.5</td>\n",
       "      <td>5.2</td>\n",
       "      <td>...</td>\n",
       "      <td>b'-02:29:35.140'</td>\n",
       "      <td>0.001841</td>\n",
       "      <td>0.000471</td>\n",
       "      <td>True</td>\n",
       "      <td>0.022254</td>\n",
       "      <td>0.005734</td>\n",
       "      <td>0.022981</td>\n",
       "      <td>0.925</td>\n",
       "      <td>-0.000900</td>\n",
       "      <td>0.001309</td>\n",
       "    </tr>\n",
       "  </tbody>\n",
       "</table>\n",
       "<p>5 rows × 26 columns</p>\n",
       "</div>"
      ],
      "text/plain": [
       "   Unnamed: 0  Unnamed: 0.1      CID  EXPNUM  CCDNUM         MJD BAND  TREST  \\\n",
       "0           0          3627  1246281  255449      51  56614.0731    g   49.2   \n",
       "1           1          3655  1246281  255888      51  56615.0961    g   49.9   \n",
       "2           2          4066  1246281  238052      51  56559.1905    g    8.1   \n",
       "3           3          4080  1246281  238984      51  56563.2002    g   11.1   \n",
       "4           4          4108  1246281  242477      51  56575.1914    g   20.1   \n",
       "\n",
       "   LAMREST  SNR  ...                HA       dRA      dDEC  CUTS      ddRA  \\\n",
       "0   3613.5  1.7  ...  b'-02:46:38.520'  0.017590  0.004682  True  0.038003   \n",
       "1   3613.5  1.8  ...  b'-02:09:31.400'  0.012814  0.003172  True  0.033227   \n",
       "2   3613.5  5.0  ...  b'-03:33:58.020' -0.022856 -0.007003  True -0.002442   \n",
       "3   3613.5  9.0  ...  b'-03:04:13.260' -0.017628 -0.004924  True  0.002786   \n",
       "4   3613.5  5.2  ...  b'-02:29:35.140'  0.001841  0.000471  True  0.022254   \n",
       "\n",
       "      ddDEC    ADJOFF  PSF_FWHM_ASEC  MAGCOR_COORD  MAGCOR_SHAPE  \n",
       "0  0.009945  0.039283          0.927     -0.002618      0.002402  \n",
       "1  0.008435  0.034281          0.997     -0.001724      0.001877  \n",
       "2 -0.001740  0.002999          1.330     -0.000007     -0.004349  \n",
       "3  0.000338  0.002806          1.344     -0.000006     -0.003640  \n",
       "4  0.005734  0.022981          0.925     -0.000900      0.001309  \n",
       "\n",
       "[5 rows x 26 columns]"
      ]
     },
     "execution_count": 6,
     "metadata": {},
     "output_type": "execute_result"
    }
   ],
   "source": [
    "MCOR_220929 = pd.read_csv(DES_5YR_DCR_path + 'DCRADJ_MAGCOR_v220929.csv')\n",
    "MCOR_220929.head()"
   ]
  },
  {
   "cell_type": "markdown",
   "id": "284b85ee-63d9-4121-93ac-e6a181b89b5d",
   "metadata": {
    "tags": []
   },
   "source": [
    "SHAPE example for one candidate at a particular exposure"
   ]
  },
  {
   "cell_type": "code",
   "execution_count": 7,
   "id": "d9b36210-93cc-40d8-b302-1e04ed56af5a",
   "metadata": {
    "tags": []
   },
   "outputs": [],
   "source": [
    "ind = 0\n",
    "\n",
    "EX_g_i = MCOR_220929.iloc[ind]['MAG_MODEL_g'] - MCOR_220929.iloc[ind]['MAG_MODEL_i']\n",
    "EX_AM = MCOR_220929.iloc[ind]['AIRMASS']\n",
    "EX_PSF_FWHM = MCOR_220929.iloc[ind]['PSF_FWHM_ASEC']"
   ]
  },
  {
   "cell_type": "code",
   "execution_count": 8,
   "id": "e5418467-2e45-47f8-a0bd-2c47755c00e0",
   "metadata": {
    "tags": []
   },
   "outputs": [],
   "source": [
    "# Convert flux ratio to magnitude correction\n",
    "\n",
    "EX_MAG_COR_SHAPE = -2.5/np.log(10) * (1. - flux_interp_g_all([EX_g_i, EX_AM, EX_PSF_FWHM])) "
   ]
  },
  {
   "cell_type": "code",
   "execution_count": 9,
   "id": "86dd35c6-04b6-41e6-aea1-a49f6f32f98f",
   "metadata": {
    "tags": []
   },
   "outputs": [
    {
     "name": "stdout",
     "output_type": "stream",
     "text": [
      "[0.00240155] 0.0024015458236172\n"
     ]
    }
   ],
   "source": [
    "# Compare with MAGCOR file\n",
    "\n",
    "print(EX_MAG_COR_SHAPE, MCOR_220929.iloc[ind]['MAGCOR_SHAPE'])"
   ]
  },
  {
   "cell_type": "markdown",
   "id": "c63b135b-303f-46eb-a463-ea1f96f92774",
   "metadata": {},
   "source": [
    "### 2. COORD effect (starting from altitude shift vs. g-i magnitude)"
   ]
  },
  {
   "cell_type": "markdown",
   "id": "e40810c7-a7c3-4da2-ba07-d516ba8886bd",
   "metadata": {
    "tags": []
   },
   "source": [
    "We first start from reading tables for COORD"
   ]
  },
  {
   "cell_type": "code",
   "execution_count": 10,
   "id": "d0d4a880-330e-409d-80db-bf6fc1c8f8bd",
   "metadata": {
    "tags": []
   },
   "outputs": [],
   "source": [
    "coord_dictionary = pd.read_csv(DES_5YR_DCR_path + 'DCR_dictionary.csv')\n",
    "mag_corr_vs_offset = np.loadtxt(DES_5YR_DCR_path + 'mmag_vs_fracpsf_Moffat3.txt')"
   ]
  },
  {
   "cell_type": "code",
   "execution_count": 11,
   "id": "a1ec451d-d602-4d17-b7c0-fec276f26073",
   "metadata": {
    "tags": []
   },
   "outputs": [],
   "source": [
    "DCR_coord_table = pd.read_csv(DES_5YR_DCR_path + 'DCR_coord_table.csv')"
   ]
  },
  {
   "cell_type": "code",
   "execution_count": 12,
   "id": "9dc71d8f-447f-4955-b0db-5fb4e03b6587",
   "metadata": {
    "tags": []
   },
   "outputs": [],
   "source": [
    "DES_bands = ['g', 'r', 'i', 'z']"
   ]
  },
  {
   "cell_type": "code",
   "execution_count": 13,
   "id": "550badc5-92ee-4d78-ac87-cf6c82e40f3d",
   "metadata": {
    "tags": []
   },
   "outputs": [],
   "source": [
    "where_band = []\n",
    "for i in range(len(DES_bands)):\n",
    "    where_band.append(np.where(MCOR_220929['BAND'] == DES_bands[i][0]))"
   ]
  },
  {
   "cell_type": "markdown",
   "id": "53a20239-1ba5-4acd-a0b4-dabf17133c8d",
   "metadata": {
    "tags": []
   },
   "source": [
    "COORD example"
   ]
  },
  {
   "cell_type": "code",
   "execution_count": 14,
   "id": "4ce4b4cb-c5d3-4949-a2e3-0083660ef87b",
   "metadata": {
    "tags": []
   },
   "outputs": [],
   "source": [
    "expnums = MCOR_220929['EXPNUM'].values\n",
    "\n",
    "g_i_vals = MCOR_220929['MAG_MODEL_g'].values - MCOR_220929['MAG_MODEL_i'].values"
   ]
  },
  {
   "cell_type": "markdown",
   "id": "7345cf84-f6d4-47fe-8e93-8d235291744b",
   "metadata": {
    "tags": []
   },
   "source": [
    "Altitude slope and y intercept values for each exposure"
   ]
  },
  {
   "cell_type": "code",
   "execution_count": 15,
   "id": "8c50f938-7c93-4c4e-b75a-75ddb9cf6f56",
   "metadata": {
    "tags": []
   },
   "outputs": [
    {
     "name": "stderr",
     "output_type": "stream",
     "text": [
      "/var/folders/61/jz5zv4qn1ml4kvb_mzhpz5500000gn/T/ipykernel_73438/1943896604.py:5: FutureWarning: Calling float on a single element Series is deprecated and will raise a TypeError in the future. Use float(ser.iloc[0]) instead\n",
      "  slope_y_int_vals[0][i] = dict_['SLOPE_ALT']\n",
      "/var/folders/61/jz5zv4qn1ml4kvb_mzhpz5500000gn/T/ipykernel_73438/1943896604.py:6: FutureWarning: Calling float on a single element Series is deprecated and will raise a TypeError in the future. Use float(ser.iloc[0]) instead\n",
      "  slope_y_int_vals[1][i] = dict_['YINT_ALT']\n"
     ]
    }
   ],
   "source": [
    "slope_y_int_vals = np.zeros([2, len(MCOR_220929)])\n",
    "\n",
    "for i in range(len(slope_y_int_vals[0])):\n",
    "    dict_ = coord_dictionary[coord_dictionary['EXPNUM'] == expnums[i]]\n",
    "    slope_y_int_vals[0][i] = dict_['SLOPE_ALT']\n",
    "    slope_y_int_vals[1][i] = dict_['YINT_ALT']"
   ]
  },
  {
   "cell_type": "markdown",
   "id": "b7eb31f4-60e9-451f-9105-9fa400fd37e5",
   "metadata": {
    "tags": []
   },
   "source": [
    "Convert to altitude shifts: see Figure 5 of Lee & Acevedo et. al (2023) https://arxiv.org/abs/2304.01858"
   ]
  },
  {
   "cell_type": "code",
   "execution_count": 16,
   "id": "34d34124-9357-4df2-87a7-983f302915df",
   "metadata": {
    "tags": []
   },
   "outputs": [],
   "source": [
    "alt_shift_vals = g_i_vals * slope_y_int_vals[0] + slope_y_int_vals[1]"
   ]
  },
  {
   "cell_type": "code",
   "execution_count": 17,
   "id": "058dd2c6-330b-4da4-807e-240a07db917d",
   "metadata": {
    "tags": []
   },
   "outputs": [],
   "source": [
    "def sky_to_alt_az_coords(SN_fid_pos, mjd, loc = earth_location):\n",
    "    coord0 = SkyCoord(SN_fid_pos[0] * u.deg, SN_fid_pos[1] * u.deg)\n",
    "    aa = AltAz(location=loc, obstime=Time(mjd, scale = 'utc', format = 'mjd', location = loc))\n",
    "    alt, az = coord0.transform_to(aa).alt, coord0.transform_to(aa).az \n",
    "    return alt, az"
   ]
  },
  {
   "cell_type": "code",
   "execution_count": 18,
   "id": "07a4cfd6-076c-4e2d-af71-3b59918399cb",
   "metadata": {
    "tags": []
   },
   "outputs": [],
   "source": [
    "def alt_az_to_sky_coords(alt, az, mjd, loc=earth_location):\n",
    "    # Create AltAz object\n",
    "    aa = AltAz(alt=alt*u.deg, az=az*u.deg, location=loc, obstime=Time(mjd, format='mjd'))\n",
    "    \n",
    "    # Transform AltAz to Equatorial coordinates (ICRS)\n",
    "    equatorial_coords = aa.transform_to(ICRS())\n",
    "    \n",
    "    # Extract RA and DEC\n",
    "    ra, dec = equatorial_coords.ra, equatorial_coords.dec\n",
    "    \n",
    "    return ra, dec"
   ]
  },
  {
   "cell_type": "code",
   "execution_count": 19,
   "id": "69a85276-b8b6-48b5-86ae-e11a656ce86a",
   "metadata": {
    "tags": []
   },
   "outputs": [],
   "source": [
    "nominal_RA_vals, nominal_DEC_vals = MCOR_220929['RADEG'].values, MCOR_220929['DECDEG'].values\n",
    "mjds = MCOR_220929['MJD'].values\n",
    "\n",
    "alt_deg, az_deg = sky_to_alt_az_coords([nominal_RA_vals, nominal_DEC_vals], mjds)"
   ]
  },
  {
   "cell_type": "code",
   "execution_count": 20,
   "id": "c11018cc-8e01-427a-8c5a-7e793589e63a",
   "metadata": {
    "tags": []
   },
   "outputs": [],
   "source": [
    "lat = earth_location.lat.value\n",
    "\n",
    "sinq = -np.cos(lat*u.deg)*np.sin(az_deg)/np.cos(nominal_DEC_vals*u.deg)\n",
    "cosq = (np.sin(lat*u.deg)-np.sin(nominal_DEC_vals*u.deg)*np.sin(alt_deg))/(np.cos(nominal_DEC_vals*u.deg)*np.cos(alt_deg))"
   ]
  },
  {
   "cell_type": "code",
   "execution_count": 21,
   "id": "6a8bc8a9-ad22-45fb-8f8d-ac1d620b845b",
   "metadata": {
    "tags": []
   },
   "outputs": [],
   "source": [
    "# Convert altitude shifts to dRA, dDEC\n",
    "\n",
    "dRA, dDEC = alt_shift_vals*sinq, alt_shift_vals*cosq"
   ]
  },
  {
   "cell_type": "code",
   "execution_count": 22,
   "id": "b7445f10-4a3c-4bc7-9c86-3d635cb2d40a",
   "metadata": {
    "tags": []
   },
   "outputs": [
    {
     "data": {
      "text/plain": [
       "[<matplotlib.lines.Line2D at 0x164941c40>]"
      ]
     },
     "execution_count": 22,
     "metadata": {},
     "output_type": "execute_result"
    },
    {
     "data": {
      "image/png": "[encoded data removed]",
      "text/plain": [
       "<Figure size 640x480 with 1 Axes>"
      ]
     },
     "metadata": {},
     "output_type": "display_data"
    }
   ],
   "source": [
    "# Checking dRA dDEC with csv file\n",
    "\n",
    "plt.plot(dRA[np.where(MCOR_220929['BAND'] == 'g')[0]], MCOR_220929[MCOR_220929['BAND'] == 'g']['dRA'], '.')\n",
    "\n",
    "plt.plot(np.arange(-0.2, 0.2, 0.01), np.arange(-0.2, 0.2, 0.01))"
   ]
  },
  {
   "cell_type": "code",
   "execution_count": 23,
   "id": "9abc6726-a6f9-4a7f-bb41-ea24b16c07bd",
   "metadata": {
    "tags": []
   },
   "outputs": [
    {
     "data": {
      "text/plain": [
       "array([1246281, 1246430, 1246527, ..., 1959025, 1960031, 1974019])"
      ]
     },
     "execution_count": 23,
     "metadata": {},
     "output_type": "execute_result"
    }
   ],
   "source": [
    "MCOR_220929['CID'].unique()"
   ]
  },
  {
   "cell_type": "code",
   "execution_count": 24,
   "id": "a44cdc0a-633b-4a6d-9405-7cd4579f0e3e",
   "metadata": {
    "tags": []
   },
   "outputs": [],
   "source": [
    "cid, band = 1246281, 'g'\n",
    "where_cid_band = np.where((MCOR_220929['CID'] == cid) & (MCOR_220929['BAND'] == band))[0]\n",
    "SNR_where_cid_band = MCOR_220929['SNR'][where_cid_band]"
   ]
  },
  {
   "cell_type": "code",
   "execution_count": 25,
   "id": "cc2eed3e-aaab-49ce-b997-61e0ec77991c",
   "metadata": {
    "tags": []
   },
   "outputs": [],
   "source": [
    "# COORD shift in RA, DEC with respect to the SNR^2 weighted average\n",
    "\n",
    "ddRA_cid_band, ddDEC_cid_band = dRA[where_cid_band] - np.average(dRA[where_cid_band], weights = SNR_where_cid_band**2), dDEC[where_cid_band] - np.average(dDEC[where_cid_band], weights = SNR_where_cid_band**2)"
   ]
  },
  {
   "cell_type": "code",
   "execution_count": 26,
   "id": "01da964a-a942-4036-9858-5059bd1dc238",
   "metadata": {
    "tags": []
   },
   "outputs": [
    {
     "data": {
      "text/plain": [
       "(-0.00738635890821312, 0.0551164154097413)"
      ]
     },
     "execution_count": 26,
     "metadata": {},
     "output_type": "execute_result"
    },
    {
     "data": {
      "image/png": "[encoded data removed]",
      "text/plain": [
       "<Figure size 640x480 with 1 Axes>"
      ]
     },
     "metadata": {},
     "output_type": "display_data"
    }
   ],
   "source": [
    "# Check ddRA, ddDEC with csv file\n",
    "\n",
    "plt.plot(ddRA_cid_band, MCOR_220929['ddRA'][where_cid_band], '.')\n",
    "plt.plot(np.arange(-0.2, 0.2, 0.01), np.arange(-0.2, 0.2, 0.01))\n",
    "plt.xlim(ddRA_cid_band.min()*1.1, ddRA_cid_band.max()*1.1)\n",
    "plt.ylim(MCOR_220929['ddRA'][where_cid_band].min()*1.1, MCOR_220929['ddRA'][where_cid_band].max()*1.1)\n"
   ]
  },
  {
   "cell_type": "code",
   "execution_count": 27,
   "id": "bd0a1405-0af3-4c69-b2a3-5e60e959b1e3",
   "metadata": {
    "tags": []
   },
   "outputs": [
    {
     "name": "stdout",
     "output_type": "stream",
     "text": [
      "[0.03932834 0.03434253 0.00299094 0.00280766 0.02298685 0.03114068\n",
      " 0.01049225 0.03709824 0.03020881 0.05214196 0.00630405 0.00941435\n",
      " 0.01432433 0.00558399 0.00694969] [0.0392828  0.03428121 0.00299867 0.0028061  0.02298113 0.03108189\n",
      " 0.01050769 0.03708267 0.03018175 0.05217067 0.00628068 0.00938201\n",
      " 0.01433384 0.00562435 0.00692192]\n"
     ]
    }
   ],
   "source": [
    "# Total OFFSET\n",
    "\n",
    "ADJOFF_cid_band = np.sqrt(ddRA_cid_band**2 + ddDEC_cid_band**2)\n",
    "print(ADJOFF_cid_band, MCOR_220929['ADJOFF'][where_cid_band].values)"
   ]
  },
  {
   "cell_type": "code",
   "execution_count": 28,
   "id": "b2e2de4c-9b16-42bf-a671-ce164850ecd6",
   "metadata": {
    "tags": []
   },
   "outputs": [],
   "source": [
    "# Convert to offset in multiples of PSF FWHM (Figure 4 of Lee & Acevedo et al. (2023))\n",
    "\n",
    "OFF_PSF_FWHM_cid_band = ADJOFF_cid_band/MCOR_220929['PSF_FWHM_ASEC'][where_cid_band].values"
   ]
  },
  {
   "cell_type": "code",
   "execution_count": 29,
   "id": "07c70d75-08fb-4744-bf00-c67973ea6105",
   "metadata": {
    "tags": []
   },
   "outputs": [],
   "source": [
    "# Interpolate mag correction by offset\n",
    "\n",
    "coord_off, magoff = mag_corr_vs_offset[0], mag_corr_vs_offset[1]\n",
    "magoff_interp = interp1d(coord_off, magoff)"
   ]
  },
  {
   "cell_type": "code",
   "execution_count": 30,
   "id": "4e8d26a1-8774-42dc-a182-1ab5242ab175",
   "metadata": {
    "tags": []
   },
   "outputs": [
    {
     "data": {
      "text/plain": [
       "(0.0, 15.0)"
      ]
     },
     "execution_count": 30,
     "metadata": {},
     "output_type": "execute_result"
    },
    {
     "data": {
      "image/png": "[encoded data removed]",
      "text/plain": [
       "<Figure size 640x480 with 1 Axes>"
      ]
     },
     "metadata": {},
     "output_type": "display_data"
    }
   ],
   "source": [
    "# Figure 4 for the Moffat profile\n",
    "\n",
    "plt.plot(mag_corr_vs_offset[0], mag_corr_vs_offset[1])\n",
    "plt.plot(coord_off, magoff_interp(coord_off), ls = '--')\n",
    "plt.xlim(0, 0.10)\n",
    "plt.ylim(0, 15)"
   ]
  },
  {
   "cell_type": "code",
   "execution_count": 31,
   "id": "73461e08-d25f-40e8-ab8f-ede0abb645ab",
   "metadata": {
    "tags": []
   },
   "outputs": [
    {
     "name": "stdout",
     "output_type": "stream",
     "text": [
      "[-0.82161476 -0.82300294 -0.91907314 -0.94210969 -0.82027624 -0.82292534\n",
      " -0.8261532  -0.82059541 -0.82148971 -0.81899311 -0.84834005 -0.83548809\n",
      " -0.822037   -0.83689179 -0.84754167]\n"
     ]
    },
    {
     "data": {
      "text/plain": [
       "(-0.002618313475896, 0.0)"
      ]
     },
     "execution_count": 31,
     "metadata": {},
     "output_type": "execute_result"
    },
    {
     "data": {
      "image/png": "[encoded data removed]",
      "text/plain": [
       "<Figure size 640x480 with 1 Axes>"
      ]
     },
     "metadata": {},
     "output_type": "display_data"
    }
   ],
   "source": [
    "# Compare with csv file\n",
    "\n",
    "plt.plot(magoff_interp(OFF_PSF_FWHM_cid_band)*1e-3, MCOR_220929['MAGCOR_COORD'][where_cid_band].values, '.')\n",
    "plt.plot(np.arange(0, 0.002, 0.00001), -np.arange(0, 0.002, 0.00001))\n",
    "\n",
    "print(magoff_interp(OFF_PSF_FWHM_cid_band)*1e-3/MCOR_220929['MAGCOR_COORD'][where_cid_band].values)\n",
    "\n",
    "plt.xlim(0, magoff_interp(OFF_PSF_FWHM_cid_band).max()*1e-3)\n",
    "plt.ylim(MCOR_220929['MAGCOR_COORD'][where_cid_band].values.min(), 0)"
   ]
  },
  {
   "cell_type": "code",
   "execution_count": null,
   "id": "140ae4ab-4b28-4678-b6a5-3c921f049f45",
   "metadata": {},
   "outputs": [],
   "source": []
  }
 ],
 "metadata": {
  "kernelspec": {
   "display_name": "Python 3 (ipykernel)",
   "language": "python",
   "name": "python3"
  },
  "language_info": {
   "codemirror_mode": {
    "name": "ipython",
    "version": 3
   },
   "file_extension": ".py",
   "mimetype": "text/x-python",
   "name": "python",
   "nbconvert_exporter": "python",
   "pygments_lexer": "ipython3",
   "version": "3.12.2"
  }
 },
 "nbformat": 4,
 "nbformat_minor": 5
}
